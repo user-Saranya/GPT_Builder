{
  "cells": [
    {
      "cell_type": "code",
      "execution_count": null,
      "metadata": {
        "id": "mFFsi_De6jif"
      },
      "outputs": [],
      "source": [
        "import numpy as np\n",
        "import tensorflow as tf\n",
        "import gradio as gr\n",
        "from tensorflow.keras.preprocessing.text import Tokenizer\n",
        "from tensorflow.keras.preprocessing.sequence import pad_sequences\n",
        "from tensorflow.keras.utils import to_categorical\n",
        "from tensorflow.keras.models import Sequential\n",
        "from tensorflow.keras.layers import Embedding, LSTM, Dense, Bidirectional\n",
        "\n",
        "def predict_next(query, num_words):\n",
        "  text = query\n",
        "  for _ in range(num_words):\n",
        "    token_text = tokenizer.texts_to_sequences([text])[0]\n",
        "    padded_token = pad_sequences([token_text], maxlen=max_len-1, padding='pre')\n",
        "    position = np.argmax(model.predict(padded_token))\n",
        "\n",
        "    word = tokenizer.index_word.get(position, '')\n",
        "    text += \" \" + word\n",
        "  return text\n",
        "\n",
        "with open('data.txt', 'r') as file:\n",
        "  text_data = file.read()\n",
        "\n",
        "sentences = text_data.split('.')\n",
        "sentences = [sentence.strip() for sentence in sentences if sentence]\n",
        "\n",
        "tokenizer = Tokenizer()\n",
        "\n",
        "tokenizer.fit_on_texts(sentences)\n",
        "\n",
        "input_sequences = []\n",
        "\n",
        "for line in sentences:\n",
        "  tokenized_line = tokenizer.texts_to_sequences([line])[0]\n",
        "\n",
        "  for i in range(1, len(tokenized_line)):\n",
        "    input_sequences.append(tokenized_line[:i+1])\n",
        "\n",
        "max_len = max([len(x) for x in input_sequences])\n",
        "\n",
        "padded_input_sequences = pad_sequences(input_sequences, maxlen = max_len, padding = 'pre')\n",
        "\n",
        "input = padded_input_sequences[:, :-1]\n",
        "output = padded_input_sequences[:, -1]\n",
        "\n",
        "num_words = len(tokenizer.word_index)+1\n",
        "output = to_categorical(output, num_classes=num_words)\n",
        "\n",
        "model = Sequential()\n",
        "model.add(Embedding(num_words, 100, input_length=max_len-1))\n",
        "model.add(LSTM(200))\n",
        "model.add(Dense(num_words, activation='softmax'))\n",
        "\n",
        "model.compile(loss='categorical_crossentropy', optimizer='adam', metrics=['accuracy'])\n",
        "\n",
        "model.fit(input, output, epochs=100)\n",
        "\n",
        "iface = gr.Interface(\n",
        "    fn=predict_next,\n",
        "    inputs=[\"text\", \"number\"],\n",
        "    outputs=\"text\",\n",
        "    title=\"Next Word Prediction with LSTM\",\n",
        "    description=\"Enter a query and the number of words to predict. The model will generate a completed sentence.\"\n",
        ")\n",
        "\n",
        "iface.launch()"
      ]
    }
  ],
  "metadata": {
    "colab": {
      "provenance": []
    },
    "kernelspec": {
      "display_name": "Python 3",
      "name": "python3"
    },
    "language_info": {
      "name": "python"
    }
  },
  "nbformat": 4,
  "nbformat_minor": 0
}
